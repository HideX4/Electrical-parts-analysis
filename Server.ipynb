{
 "cells": [
  {
   "cell_type": "code",
   "execution_count": null,
   "metadata": {},
   "outputs": [],
   "source": [
    "from fastapi import FastAPI, File, UploadFile\n",
    "import shutil\n",
    "from PIL import Image\n",
    "import numpy as np\n",
    "import tensorflow as tf\n",
    "import uvicorn\n",
    "\n",
    "app = FastAPI()\n",
    "\n",
    "# Load your TensorFlow model\n",
    "model = tf.keras.models.load_model(r\"C:\\Users\\filip\\Documents\\GitHub\\2024-25c-fai1-adsai-0FilipSarik243537\\best_model.h5\")  # Replace with your actual model file\n",
    "model = tf.keras.model.load_weights(r\"C:\\Users\\filip\\Documents\\GitHub\\2024-25c-fai1-adsai-0FilipSarik243537\\best_model_weights.h5\")  # Replace with your actual model file\n",
    "\n",
    "# Function to preprocess image\n",
    "def preprocess_image(image_path):\n",
    "    image = Image.open(image_path).convert(\"RGB\")\n",
    "    image = image.resize((224, 224))  # Adjust size based on your model input size\n",
    "    image_array = np.array(image) / 255.0  # Normalize pixels\n",
    "    image_array = np.expand_dims(image_array, axis=0)  # Add batch dimension\n",
    "    return image_array\n",
    "\n",
    "# Function to make a prediction\n",
    "def predict_image(image_path):\n",
    "    processed_image = preprocess_image(image_path)\n",
    "    \n",
    "    # Get prediction\n",
    "    predictions = model.predict(processed_image)\n",
    "    predicted_class = np.argmax(predictions, axis=1)[0]  # Get the class label\n",
    "    confidence = np.max(predictions)  # Get confidence score\n",
    "\n",
    "    return predicted_class, confidence\n",
    "\n",
    "# API Endpoint to Receive Image and Predict\n",
    "@app.post(\"/predict\")\n",
    "async def predict(file: UploadFile = File(...)):\n",
    "    file_location = \"temp_image.jpg\"\n",
    "\n",
    "    # Save uploaded image\n",
    "    with open(file_location, \"wb\") as buffer:\n",
    "        shutil.copyfileobj(file.file, buffer)\n",
    "\n",
    "    # Get prediction\n",
    "    prediction, confidence = predict_image(file_location)\n",
    "\n",
    "    return {\n",
    "        \"prediction\": str(prediction),\n",
    "        \"confidence\": float(confidence)\n",
    "    }\n",
    "\n",
    "if __name__ == \"__main__\":\n",
    "    uvicorn.run(app, host=\"0.0.0.0\", port=8000)"
   ]
  }
 ],
 "metadata": {
  "kernelspec": {
   "display_name": "block_c",
   "language": "python",
   "name": "python3"
  },
  "language_info": {
   "name": "python",
   "version": "3.10.16"
  }
 },
 "nbformat": 4,
 "nbformat_minor": 2
}
